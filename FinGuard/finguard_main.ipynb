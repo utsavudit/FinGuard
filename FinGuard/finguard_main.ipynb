{
 "metadata": {
  "colab": {
   "provenance": []
  },
  "kernelspec": {
   "name": "python3",
   "display_name": "Python 3",
   "language": "python"
  },
  "language_info": {
   "name": "python",
   "version": "3.10.13",
   "mimetype": "text/x-python",
   "codemirror_mode": {
    "name": "ipython",
    "version": 3
   },
   "pygments_lexer": "ipython3",
   "nbconvert_exporter": "python",
   "file_extension": ".py"
  },
  "kaggle": {
   "accelerator": "none",
   "dataSources": [
    {
     "sourceId": 8390777,
     "sourceType": "datasetVersion",
     "datasetId": 4991003
    }
   ],
   "dockerImageVersionId": 30698,
   "isInternetEnabled": false,
   "language": "python",
   "sourceType": "notebook",
   "isGpuEnabled": false
  }
 },
 "nbformat_minor": 4,
 "nbformat": 4,
 "cells": [
  {
   "cell_type": "code",
   "execution_count": null,
   "metadata": {},
   "outputs": [],
   "source": [
    "import pandas as pd\n",
    "import numpy as np\n"
   ]
  },
  {
   "cell_type": "code",
   "source": "finance_dataset = pd.read_csv('/kaggle/input/sml-project/fraud_payment_data_JPMorgan.csv')\nfinance_dataset = pd.DataFrame(finance_dataset)",
   "metadata": {
    "id": "CgJO5KMSvtZE",
    "execution": {
     "iopub.status.busy": "2024-05-13T02:49:38.429844Z",
     "iopub.execute_input": "2024-05-13T02:49:38.430782Z",
     "iopub.status.idle": "2024-05-13T02:49:45.803231Z",
     "shell.execute_reply.started": "2024-05-13T02:49:38.430739Z",
     "shell.execute_reply": "2024-05-13T02:49:45.802213Z"
    },
    "trusted": true
   },
   "execution_count": 662,
   "outputs": []
  },
  {
   "cell_type": "code",
   "source": "finance_dataset.info()",
   "metadata": {
    "colab": {
     "base_uri": "https://localhost:8080/"
    },
    "id": "kxSCK3Uyv4gt",
    "outputId": "14e1df1c-8887-4f82-bf19-1ed771185e56",
    "execution": {
     "iopub.status.busy": "2024-05-13T02:49:45.805265Z",
     "iopub.execute_input": "2024-05-13T02:49:45.805735Z",
     "iopub.status.idle": "2024-05-13T02:49:47.349867Z",
     "shell.execute_reply.started": "2024-05-13T02:49:45.805691Z",
     "shell.execute_reply": "2024-05-13T02:49:47.348391Z"
    },
    "trusted": true
   },
   "execution_count": 663,
   "outputs": [
    {
     "name": "stdout",
     "text": "<class 'pandas.core.frame.DataFrame'>\nRangeIndex: 1498177 entries, 0 to 1498176\nData columns (total 13 columns):\n #   Column            Non-Null Count    Dtype  \n---  ------            --------------    -----  \n 0   Time_step         1498177 non-null  object \n 1   Transaction_Id    1498177 non-null  object \n 2   Sender_Id         1279291 non-null  object \n 3   Sender_Account    1279291 non-null  object \n 4   Sender_Country    1279291 non-null  object \n 5   Sender_Sector     1279291 non-null  float64\n 6   Sender_lob        1279291 non-null  object \n 7   Bene_Id           1282284 non-null  object \n 8   Bene_Account      1282284 non-null  object \n 9   Bene_Country      1282284 non-null  object \n 10  USD_amount        1498177 non-null  float64\n 11  Label             1498177 non-null  int64  \n 12  Transaction_Type  1498177 non-null  object \ndtypes: float64(2), int64(1), object(10)\nmemory usage: 148.6+ MB\n",
     "output_type": "stream"
    }
   ]
  },
  {
   "cell_type": "code",
   "source": "finance_dataset.shape",
   "metadata": {
    "colab": {
     "base_uri": "https://localhost:8080/"
    },
    "id": "dEIynHRQv8dk",
    "outputId": "255f4b04-71a7-4a3e-9236-78775d99836d",
    "execution": {
     "iopub.status.busy": "2024-05-13T02:49:47.351430Z",
     "iopub.execute_input": "2024-05-13T02:49:47.351806Z",
     "iopub.status.idle": "2024-05-13T02:49:47.364564Z",
     "shell.execute_reply.started": "2024-05-13T02:49:47.351775Z",
     "shell.execute_reply": "2024-05-13T02:49:47.362952Z"
    },
    "trusted": true
   },
   "execution_count": 664,
   "outputs": [
    {
     "execution_count": 664,
     "output_type": "execute_result",
     "data": {
      "text/plain": "(1498177, 13)"
     },
     "metadata": {}
    }
   ]
  },
  {
   "cell_type": "code",
   "source": "finance_dataset.head()",
   "metadata": {
    "colab": {
     "base_uri": "https://localhost:8080/",
     "height": 399
    },
    "id": "YfdCuuziwkEa",
    "outputId": "b0fe5c31-cdc6-46b5-d38f-d3ce746ab113",
    "execution": {
     "iopub.status.busy": "2024-05-13T02:49:52.167016Z",
     "iopub.execute_input": "2024-05-13T02:49:52.167436Z",
     "iopub.status.idle": "2024-05-13T02:49:52.193298Z",
     "shell.execute_reply.started": "2024-05-13T02:49:52.167402Z",
     "shell.execute_reply": "2024-05-13T02:49:52.191177Z"
    },
    "trusted": true
   },
   "execution_count": 666,
   "outputs": [
    {
     "execution_count": 666,
     "output_type": "execute_result",
     "data": {
      "text/plain": "             Time_step       Transaction_Id          Sender_Id Sender_Account  \\\n0  2022-03-15 10:24:00       EXCHANGE-10115  JPMC-CLIENT-10098  ACCOUNT-10108   \n1  2022-03-15 10:24:00  QUICK-PAYMENT-10116  JPMC-CLIENT-10098  ACCOUNT-10109   \n2  2022-03-15 10:24:00    DEPOSIT-CASH-9833                NaN            NaN   \n3  2022-03-15 10:24:00       PAY-CHECK-9832   JPMC-CLIENT-9812   ACCOUNT-9825   \n4  2022-03-15 10:24:00   DEPOSIT-CHECK-9806                NaN            NaN   \n\n  Sender_Country  Sender_Sector Sender_lob           Bene_Id   Bene_Account  \\\n0            USA        35537.0        CCB               NaN            NaN   \n1            USA        15287.0        CCB      CLIENT-10100  ACCOUNT-10106   \n2            NaN            NaN        NaN  JPMC-CLIENT-9812   ACCOUNT-9826   \n3            USA        38145.0        CCB  JPMC-CLIENT-9814   ACCOUNT-9824   \n4            NaN            NaN        NaN  JPMC-CLIENT-9789   ACCOUNT-9800   \n\n  Bene_Country  USD_amount  Label Transaction_Type  \n0          NaN      558.43      0       WITHDRAWAL  \n1       CANADA      622.78      0    QUICK-PAYMENT  \n2          USA      802.54      0     DEPOSIT-CASH  \n3          USA      989.09      0        PAY-CHECK  \n4          USA      786.78      0    DEPOSIT-CHECK  ",
      "text/html": "<div>\n<style scoped>\n    .dataframe tbody tr th:only-of-type {\n        vertical-align: middle;\n    }\n\n    .dataframe tbody tr th {\n        vertical-align: top;\n    }\n\n    .dataframe thead th {\n        text-align: right;\n    }\n</style>\n<table border=\"1\" class=\"dataframe\">\n  <thead>\n    <tr style=\"text-align: right;\">\n      <th></th>\n      <th>Time_step</th>\n      <th>Transaction_Id</th>\n      <th>Sender_Id</th>\n      <th>Sender_Account</th>\n      <th>Sender_Country</th>\n      <th>Sender_Sector</th>\n      <th>Sender_lob</th>\n      <th>Bene_Id</th>\n      <th>Bene_Account</th>\n      <th>Bene_Country</th>\n      <th>USD_amount</th>\n      <th>Label</th>\n      <th>Transaction_Type</th>\n    </tr>\n  </thead>\n  <tbody>\n    <tr>\n      <th>0</th>\n      <td>2022-03-15 10:24:00</td>\n      <td>EXCHANGE-10115</td>\n      <td>JPMC-CLIENT-10098</td>\n      <td>ACCOUNT-10108</td>\n      <td>USA</td>\n      <td>35537.0</td>\n      <td>CCB</td>\n      <td>NaN</td>\n      <td>NaN</td>\n      <td>NaN</td>\n      <td>558.43</td>\n      <td>0</td>\n      <td>WITHDRAWAL</td>\n    </tr>\n    <tr>\n      <th>1</th>\n      <td>2022-03-15 10:24:00</td>\n      <td>QUICK-PAYMENT-10116</td>\n      <td>JPMC-CLIENT-10098</td>\n      <td>ACCOUNT-10109</td>\n      <td>USA</td>\n      <td>15287.0</td>\n      <td>CCB</td>\n      <td>CLIENT-10100</td>\n      <td>ACCOUNT-10106</td>\n      <td>CANADA</td>\n      <td>622.78</td>\n      <td>0</td>\n      <td>QUICK-PAYMENT</td>\n    </tr>\n    <tr>\n      <th>2</th>\n      <td>2022-03-15 10:24:00</td>\n      <td>DEPOSIT-CASH-9833</td>\n      <td>NaN</td>\n      <td>NaN</td>\n      <td>NaN</td>\n      <td>NaN</td>\n      <td>NaN</td>\n      <td>JPMC-CLIENT-9812</td>\n      <td>ACCOUNT-9826</td>\n      <td>USA</td>\n      <td>802.54</td>\n      <td>0</td>\n      <td>DEPOSIT-CASH</td>\n    </tr>\n    <tr>\n      <th>3</th>\n      <td>2022-03-15 10:24:00</td>\n      <td>PAY-CHECK-9832</td>\n      <td>JPMC-CLIENT-9812</td>\n      <td>ACCOUNT-9825</td>\n      <td>USA</td>\n      <td>38145.0</td>\n      <td>CCB</td>\n      <td>JPMC-CLIENT-9814</td>\n      <td>ACCOUNT-9824</td>\n      <td>USA</td>\n      <td>989.09</td>\n      <td>0</td>\n      <td>PAY-CHECK</td>\n    </tr>\n    <tr>\n      <th>4</th>\n      <td>2022-03-15 10:24:00</td>\n      <td>DEPOSIT-CHECK-9806</td>\n      <td>NaN</td>\n      <td>NaN</td>\n      <td>NaN</td>\n      <td>NaN</td>\n      <td>NaN</td>\n      <td>JPMC-CLIENT-9789</td>\n      <td>ACCOUNT-9800</td>\n      <td>USA</td>\n      <td>786.78</td>\n      <td>0</td>\n      <td>DEPOSIT-CHECK</td>\n    </tr>\n  </tbody>\n</table>\n</div>"
     },
     "metadata": {}
    }
   ]
  },
  {
   "cell_type": "code",
   "source": "finance_dataset.columns",
   "metadata": {
    "colab": {
     "base_uri": "https://localhost:8080/"
    },
    "id": "TNMCZM3uxG6t",
    "outputId": "75ce6ccd-73f0-49fa-f336-124b5e82a5f9",
    "execution": {
     "iopub.status.busy": "2024-05-13T02:49:55.516149Z",
     "iopub.execute_input": "2024-05-13T02:49:55.516487Z",
     "iopub.status.idle": "2024-05-13T02:49:55.524198Z",
     "shell.execute_reply.started": "2024-05-13T02:49:55.516456Z",
     "shell.execute_reply": "2024-05-13T02:49:55.522990Z"
    },
    "trusted": true
   },
   "execution_count": 668,
   "outputs": [
    {
     "execution_count": 668,
     "output_type": "execute_result",
     "data": {
      "text/plain": "Index(['Time_step', 'Transaction_Id', 'Sender_Id', 'Sender_Account',\n       'Sender_Country', 'Sender_Sector', 'Sender_lob', 'Bene_Id',\n       'Bene_Account', 'Bene_Country', 'USD_amount', 'Label',\n       'Transaction_Type'],\n      dtype='object')"
     },
     "metadata": {}
    }
   ]
  }
 ]
}
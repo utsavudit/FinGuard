{
 "metadata": {
  "colab": {
   "provenance": []
  },
  "kernelspec": {
   "name": "python3",
   "display_name": "Python 3",
   "language": "python"
  },
  "language_info": {
   "name": "python",
   "version": "3.10.13",
   "mimetype": "text/x-python",
   "codemirror_mode": {
    "name": "ipython",
    "version": 3
   },
   "pygments_lexer": "ipython3",
   "nbconvert_exporter": "python",
   "file_extension": ".py"
  },
  "kaggle": {
   "accelerator": "none",
   "dataSources": [
    {
     "sourceId": 8390777,
     "sourceType": "datasetVersion",
     "datasetId": 4991003
    }
   ],
   "dockerImageVersionId": 30698,
   "isInternetEnabled": false,
   "language": "python",
   "sourceType": "notebook",
   "isGpuEnabled": false
  }
 },
 "nbformat_minor": 4,
 "nbformat": 4,
 "cells": [
  {
   "cell_type": "code",
   "execution_count": null,
   "metadata": {},
   "outputs": [],
   "source": [
    "import pandas as pd\n",
    "import numpy as np\n"
   ]
  },
  {
   "cell_type": "code",
   "source": "finance_dataset = pd.read_csv('/kaggle/input/sml-project/fraud_payment_data_JPMorgan.csv')\nfinance_dataset = pd.DataFrame(finance_dataset)",
   "metadata": {
    "id": "CgJO5KMSvtZE",
    "execution": {
     "iopub.status.busy": "2024-05-13T02:49:38.429844Z",
     "iopub.execute_input": "2024-05-13T02:49:38.430782Z",
     "iopub.status.idle": "2024-05-13T02:49:45.803231Z",
     "shell.execute_reply.started": "2024-05-13T02:49:38.430739Z",
     "shell.execute_reply": "2024-05-13T02:49:45.802213Z"
    },
    "trusted": true
   },
   "execution_count": 662,
   "outputs": []
  }
 ]
}